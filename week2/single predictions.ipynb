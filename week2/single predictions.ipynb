{
 "cells": [
  {
   "cell_type": "code",
   "execution_count": 1,
   "id": "63bd155d",
   "metadata": {},
   "outputs": [],
   "source": [
    "import pandas as pd\n",
    "import re"
   ]
  },
  {
   "cell_type": "code",
   "execution_count": 2,
   "id": "efdea49d",
   "metadata": {},
   "outputs": [],
   "source": [
    "df = pd.read_csv('onlyheatno.csv') \n"
   ]
  },
  {
   "cell_type": "code",
   "execution_count": 3,
   "id": "89f752c1",
   "metadata": {},
   "outputs": [],
   "source": [
    "# Extract the pattern from existing Heat No values\n",
    "pattern = re.compile(r'\\d{2}[A-Z]\\d{5}')"
   ]
  },
  {
   "cell_type": "code",
   "execution_count": 4,
   "id": "d18524fc",
   "metadata": {},
   "outputs": [],
   "source": [
    "\n",
    "# Fill missing values with predicted values matching the pattern\n",
    "for i, row in df[df['Heat No'].isnull()].iterrows():\n",
    "    heat_no = pattern.sub(lambda x: f\"{row['SNO']:02d}{x.group(0)[2:]}\", \"XXXXXXX\")\n",
    "    df.loc[i, 'Heat No'] = heat_no"
   ]
  },
  {
   "cell_type": "code",
   "execution_count": 5,
   "id": "c6ce54ec",
   "metadata": {},
   "outputs": [
    {
     "name": "stdout",
     "output_type": "stream",
     "text": [
      "Series([], Name: Heat No, dtype: object)\n"
     ]
    }
   ],
   "source": [
    "print(df[df['Heat No'].isnull()]['Heat No'])"
   ]
  },
  {
   "cell_type": "code",
   "execution_count": 7,
   "id": "a036cca9",
   "metadata": {},
   "outputs": [
    {
     "data": {
      "text/html": [
       "<div>\n",
       "<style scoped>\n",
       "    .dataframe tbody tr th:only-of-type {\n",
       "        vertical-align: middle;\n",
       "    }\n",
       "\n",
       "    .dataframe tbody tr th {\n",
       "        vertical-align: top;\n",
       "    }\n",
       "\n",
       "    .dataframe thead th {\n",
       "        text-align: right;\n",
       "    }\n",
       "</style>\n",
       "<table border=\"1\" class=\"dataframe\">\n",
       "  <thead>\n",
       "    <tr style=\"text-align: right;\">\n",
       "      <th></th>\n",
       "      <th>SNO</th>\n",
       "      <th>Heat No</th>\n",
       "    </tr>\n",
       "  </thead>\n",
       "  <tbody>\n",
       "    <tr>\n",
       "      <th>0</th>\n",
       "      <td>1</td>\n",
       "      <td>23F01059</td>\n",
       "    </tr>\n",
       "    <tr>\n",
       "      <th>1</th>\n",
       "      <td>2</td>\n",
       "      <td>23F01058</td>\n",
       "    </tr>\n",
       "    <tr>\n",
       "      <th>2</th>\n",
       "      <td>3</td>\n",
       "      <td>23F01058</td>\n",
       "    </tr>\n",
       "    <tr>\n",
       "      <th>3</th>\n",
       "      <td>4</td>\n",
       "      <td>23F01035</td>\n",
       "    </tr>\n",
       "    <tr>\n",
       "      <th>4</th>\n",
       "      <td>5</td>\n",
       "      <td>XXXXXXX</td>\n",
       "    </tr>\n",
       "    <tr>\n",
       "      <th>...</th>\n",
       "      <td>...</td>\n",
       "      <td>...</td>\n",
       "    </tr>\n",
       "    <tr>\n",
       "      <th>479</th>\n",
       "      <td>480</td>\n",
       "      <td>2303299</td>\n",
       "    </tr>\n",
       "    <tr>\n",
       "      <th>480</th>\n",
       "      <td>481</td>\n",
       "      <td>2303299</td>\n",
       "    </tr>\n",
       "    <tr>\n",
       "      <th>481</th>\n",
       "      <td>482</td>\n",
       "      <td>XXXXXXX</td>\n",
       "    </tr>\n",
       "    <tr>\n",
       "      <th>482</th>\n",
       "      <td>483</td>\n",
       "      <td>2303299</td>\n",
       "    </tr>\n",
       "    <tr>\n",
       "      <th>483</th>\n",
       "      <td>484</td>\n",
       "      <td>2303299</td>\n",
       "    </tr>\n",
       "  </tbody>\n",
       "</table>\n",
       "<p>484 rows × 2 columns</p>\n",
       "</div>"
      ],
      "text/plain": [
       "     SNO   Heat No\n",
       "0      1  23F01059\n",
       "1      2  23F01058\n",
       "2      3  23F01058\n",
       "3      4  23F01035\n",
       "4      5   XXXXXXX\n",
       "..   ...       ...\n",
       "479  480   2303299\n",
       "480  481   2303299\n",
       "481  482   XXXXXXX\n",
       "482  483   2303299\n",
       "483  484   2303299\n",
       "\n",
       "[484 rows x 2 columns]"
      ]
     },
     "execution_count": 7,
     "metadata": {},
     "output_type": "execute_result"
    }
   ],
   "source": [
    "df"
   ]
  },
  {
   "cell_type": "code",
   "execution_count": 8,
   "id": "d3636eb3",
   "metadata": {},
   "outputs": [
    {
     "name": "stdout",
     "output_type": "stream",
     "text": [
      "     SNO   Heat No\n",
      "0      1  23F01059\n",
      "1      2  23F01058\n",
      "2      3  23F01058\n",
      "3      4  23F01035\n",
      "4      5   XXXXXXX\n",
      "..   ...       ...\n",
      "479  480   2303299\n",
      "480  481   2303299\n",
      "481  482   XXXXXXX\n",
      "482  483   2303299\n",
      "483  484   2303299\n",
      "\n",
      "[484 rows x 2 columns]\n"
     ]
    }
   ],
   "source": [
    "print(df)"
   ]
  }
 ],
 "metadata": {
  "kernelspec": {
   "display_name": "Python 3 (ipykernel)",
   "language": "python",
   "name": "python3"
  },
  "language_info": {
   "codemirror_mode": {
    "name": "ipython",
    "version": 3
   },
   "file_extension": ".py",
   "mimetype": "text/x-python",
   "name": "python",
   "nbconvert_exporter": "python",
   "pygments_lexer": "ipython3",
   "version": "3.11.4"
  }
 },
 "nbformat": 4,
 "nbformat_minor": 5
}
