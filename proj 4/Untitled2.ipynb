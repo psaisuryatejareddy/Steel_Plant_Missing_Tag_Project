{
 "cells": [
  {
   "cell_type": "code",
   "execution_count": 1,
   "id": "5abf5caa",
   "metadata": {},
   "outputs": [],
   "source": [
    "import pandas as pd"
   ]
  },
  {
   "cell_type": "code",
   "execution_count": 12,
   "id": "fbbce78b",
   "metadata": {},
   "outputs": [],
   "source": [
    "from sklearn.preprocessing import LabelEncoder"
   ]
  },
  {
   "cell_type": "code",
   "execution_count": 13,
   "id": "7e2a4a84",
   "metadata": {},
   "outputs": [],
   "source": [
    "df = pd.read_csv('transposed_data.csv')"
   ]
  },
  {
   "cell_type": "code",
   "execution_count": 14,
   "id": "56d99c23",
   "metadata": {},
   "outputs": [],
   "source": [
    "# Create a mapping dictionary for each column\n",
    "mapping_dicts = {}"
   ]
  },
  {
   "cell_type": "code",
   "execution_count": 15,
   "id": "dfc6fdd6",
   "metadata": {},
   "outputs": [],
   "source": [
    "# Initialize the integer value for mapping\n",
    "int_value = 1\n"
   ]
  },
  {
   "cell_type": "code",
   "execution_count": 16,
   "id": "18e685b1",
   "metadata": {},
   "outputs": [],
   "source": [
    "# Iterate over columns\n",
    "for col in df.columns:\n",
    "    unique_values = df[col].unique()\n",
    "    mapping_dict = {value: int_value + i for i, value in enumerate(unique_values)}\n",
    "    mapping_dicts[col] = mapping_dict\n",
    "    df[col] = df[col].map(mapping_dict)\n",
    "    int_value += len(unique_values)"
   ]
  },
  {
   "cell_type": "code",
   "execution_count": 17,
   "id": "e3fff97d",
   "metadata": {},
   "outputs": [],
   "source": [
    "\n",
    "# Group data into arrays of size 10\n",
    "array_size = 10\n",
    "num_rows = len(df)\n",
    "new_data = []"
   ]
  },
  {
   "cell_type": "code",
   "execution_count": 18,
   "id": "019faa8d",
   "metadata": {},
   "outputs": [],
   "source": [
    "for i in range(0, num_rows, array_size):\n",
    "    row_data = df.iloc[i:i+array_size].values.flatten()\n",
    "    new_data.append(row_data)"
   ]
  },
  {
   "cell_type": "code",
   "execution_count": 19,
   "id": "53c8fdb4",
   "metadata": {},
   "outputs": [],
   "source": [
    "# Create a new DataFrame with the grouped data\n",
    "new_df = pd.DataFrame(new_data)"
   ]
  },
  {
   "cell_type": "code",
   "execution_count": 21,
   "id": "178d96db",
   "metadata": {},
   "outputs": [
    {
     "data": {
      "text/html": [
       "<div>\n",
       "<style scoped>\n",
       "    .dataframe tbody tr th:only-of-type {\n",
       "        vertical-align: middle;\n",
       "    }\n",
       "\n",
       "    .dataframe tbody tr th {\n",
       "        vertical-align: top;\n",
       "    }\n",
       "\n",
       "    .dataframe thead th {\n",
       "        text-align: right;\n",
       "    }\n",
       "</style>\n",
       "<table border=\"1\" class=\"dataframe\">\n",
       "  <thead>\n",
       "    <tr style=\"text-align: right;\">\n",
       "      <th></th>\n",
       "      <th>0</th>\n",
       "      <th>1</th>\n",
       "      <th>2</th>\n",
       "      <th>3</th>\n",
       "      <th>4</th>\n",
       "      <th>5</th>\n",
       "      <th>6</th>\n",
       "      <th>7</th>\n",
       "      <th>8</th>\n",
       "      <th>9</th>\n",
       "      <th>...</th>\n",
       "      <th>474</th>\n",
       "      <th>475</th>\n",
       "      <th>476</th>\n",
       "      <th>477</th>\n",
       "      <th>478</th>\n",
       "      <th>479</th>\n",
       "      <th>480</th>\n",
       "      <th>481</th>\n",
       "      <th>482</th>\n",
       "      <th>483</th>\n",
       "    </tr>\n",
       "  </thead>\n",
       "  <tbody>\n",
       "    <tr>\n",
       "      <th>0</th>\n",
       "      <td>1</td>\n",
       "      <td>2</td>\n",
       "      <td>3</td>\n",
       "      <td>4</td>\n",
       "      <td>5</td>\n",
       "      <td>6</td>\n",
       "      <td>7</td>\n",
       "      <td>8</td>\n",
       "      <td>9</td>\n",
       "      <td>10</td>\n",
       "      <td>...</td>\n",
       "      <td>475</td>\n",
       "      <td>476</td>\n",
       "      <td>477</td>\n",
       "      <td>478</td>\n",
       "      <td>479</td>\n",
       "      <td>480</td>\n",
       "      <td>481</td>\n",
       "      <td>482</td>\n",
       "      <td>483</td>\n",
       "      <td>484</td>\n",
       "    </tr>\n",
       "  </tbody>\n",
       "</table>\n",
       "<p>1 rows × 484 columns</p>\n",
       "</div>"
      ],
      "text/plain": [
       "   0    1    2    3    4    5    6    7    8    9    ...  474  475  476  477  \\\n",
       "0    1    2    3    4    5    6    7    8    9   10  ...  475  476  477  478   \n",
       "\n",
       "   478  479  480  481  482  483  \n",
       "0  479  480  481  482  483  484  \n",
       "\n",
       "[1 rows x 484 columns]"
      ]
     },
     "execution_count": 21,
     "metadata": {},
     "output_type": "execute_result"
    }
   ],
   "source": [
    "new_df"
   ]
  },
  {
   "cell_type": "code",
   "execution_count": 22,
   "id": "29e65aae",
   "metadata": {},
   "outputs": [],
   "source": [
    "# Create a mapping dictionary for all columns\n",
    "mapping_dict = {}\n",
    "int_value = 1"
   ]
  },
  {
   "cell_type": "code",
   "execution_count": 23,
   "id": "7b3c691c",
   "metadata": {},
   "outputs": [],
   "source": [
    "# Iterate over columns\n",
    "for col in df.columns:\n",
    "    unique_values = df[col].unique()\n",
    "    for value in unique_values:\n",
    "        if value not in mapping_dict:\n",
    "            mapping_dict[value] = int_value\n",
    "            int_value += 1\n"
   ]
  },
  {
   "cell_type": "code",
   "execution_count": 24,
   "id": "fd83517e",
   "metadata": {},
   "outputs": [],
   "source": [
    "\n",
    "# Apply the mapping to all columns\n",
    "df = df.applymap(lambda x: mapping_dict[x])"
   ]
  },
  {
   "cell_type": "code",
   "execution_count": 25,
   "id": "e498089d",
   "metadata": {},
   "outputs": [],
   "source": [
    "\n",
    "# Group data into arrays of size 10\n",
    "array_size = 10\n",
    "num_rows = len(df)\n",
    "new_data = []"
   ]
  },
  {
   "cell_type": "code",
   "execution_count": 26,
   "id": "e1be25b0",
   "metadata": {},
   "outputs": [],
   "source": [
    "for i in range(0, num_rows, array_size):\n",
    "    row_data = df.iloc[i:i+array_size].values.flatten()\n",
    "    new_data.append(row_data)"
   ]
  },
  {
   "cell_type": "code",
   "execution_count": 27,
   "id": "3ffbefd1",
   "metadata": {},
   "outputs": [],
   "source": [
    "\n",
    "# Create a new DataFrame with the grouped data\n",
    "new_df = pd.DataFrame(new_data)\n"
   ]
  },
  {
   "cell_type": "code",
   "execution_count": 28,
   "id": "64651293",
   "metadata": {},
   "outputs": [
    {
     "data": {
      "text/html": [
       "<div>\n",
       "<style scoped>\n",
       "    .dataframe tbody tr th:only-of-type {\n",
       "        vertical-align: middle;\n",
       "    }\n",
       "\n",
       "    .dataframe tbody tr th {\n",
       "        vertical-align: top;\n",
       "    }\n",
       "\n",
       "    .dataframe thead th {\n",
       "        text-align: right;\n",
       "    }\n",
       "</style>\n",
       "<table border=\"1\" class=\"dataframe\">\n",
       "  <thead>\n",
       "    <tr style=\"text-align: right;\">\n",
       "      <th></th>\n",
       "      <th>0</th>\n",
       "      <th>1</th>\n",
       "      <th>2</th>\n",
       "      <th>3</th>\n",
       "      <th>4</th>\n",
       "      <th>5</th>\n",
       "      <th>6</th>\n",
       "      <th>7</th>\n",
       "      <th>8</th>\n",
       "      <th>9</th>\n",
       "      <th>...</th>\n",
       "      <th>474</th>\n",
       "      <th>475</th>\n",
       "      <th>476</th>\n",
       "      <th>477</th>\n",
       "      <th>478</th>\n",
       "      <th>479</th>\n",
       "      <th>480</th>\n",
       "      <th>481</th>\n",
       "      <th>482</th>\n",
       "      <th>483</th>\n",
       "    </tr>\n",
       "  </thead>\n",
       "  <tbody>\n",
       "    <tr>\n",
       "      <th>0</th>\n",
       "      <td>1</td>\n",
       "      <td>2</td>\n",
       "      <td>3</td>\n",
       "      <td>4</td>\n",
       "      <td>5</td>\n",
       "      <td>6</td>\n",
       "      <td>7</td>\n",
       "      <td>8</td>\n",
       "      <td>9</td>\n",
       "      <td>10</td>\n",
       "      <td>...</td>\n",
       "      <td>475</td>\n",
       "      <td>476</td>\n",
       "      <td>477</td>\n",
       "      <td>478</td>\n",
       "      <td>479</td>\n",
       "      <td>480</td>\n",
       "      <td>481</td>\n",
       "      <td>482</td>\n",
       "      <td>483</td>\n",
       "      <td>484</td>\n",
       "    </tr>\n",
       "  </tbody>\n",
       "</table>\n",
       "<p>1 rows × 484 columns</p>\n",
       "</div>"
      ],
      "text/plain": [
       "   0    1    2    3    4    5    6    7    8    9    ...  474  475  476  477  \\\n",
       "0    1    2    3    4    5    6    7    8    9   10  ...  475  476  477  478   \n",
       "\n",
       "   478  479  480  481  482  483  \n",
       "0  479  480  481  482  483  484  \n",
       "\n",
       "[1 rows x 484 columns]"
      ]
     },
     "execution_count": 28,
     "metadata": {},
     "output_type": "execute_result"
    }
   ],
   "source": [
    "new_df"
   ]
  }
 ],
 "metadata": {
  "kernelspec": {
   "display_name": "Python 3 (ipykernel)",
   "language": "python",
   "name": "python3"
  },
  "language_info": {
   "codemirror_mode": {
    "name": "ipython",
    "version": 3
   },
   "file_extension": ".py",
   "mimetype": "text/x-python",
   "name": "python",
   "nbconvert_exporter": "python",
   "pygments_lexer": "ipython3",
   "version": "3.11.4"
  }
 },
 "nbformat": 4,
 "nbformat_minor": 5
}
