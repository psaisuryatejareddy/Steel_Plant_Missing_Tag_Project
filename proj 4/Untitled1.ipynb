{
 "cells": [
  {
   "cell_type": "code",
   "execution_count": 2,
   "id": "9bef3b82",
   "metadata": {},
   "outputs": [],
   "source": [
    "import pandas as pd"
   ]
  },
  {
   "cell_type": "code",
   "execution_count": 12,
   "id": "3aa73293",
   "metadata": {},
   "outputs": [],
   "source": [
    "df = pd.read_csv('products_dispatched_wagon_wise.csv', names=['Mat Code', 'Wagon No'])"
   ]
  },
  {
   "cell_type": "code",
   "execution_count": 13,
   "id": "038cc446",
   "metadata": {},
   "outputs": [],
   "source": [
    "transposed_df = df.T"
   ]
  },
  {
   "cell_type": "code",
   "execution_count": 14,
   "id": "bba7db03",
   "metadata": {},
   "outputs": [],
   "source": [
    "transposed_df.to_csv('transposed_data.csv', header=False)"
   ]
  },
  {
   "cell_type": "code",
   "execution_count": 15,
   "id": "2cd6c935",
   "metadata": {},
   "outputs": [],
   "source": [
    "from sklearn.preprocessing import LabelEncoder"
   ]
  },
  {
   "cell_type": "code",
   "execution_count": 16,
   "id": "24ebfd6d",
   "metadata": {},
   "outputs": [],
   "source": [
    "df = pd.read_csv('transposed_data.csv')"
   ]
  },
  {
   "cell_type": "code",
   "execution_count": 17,
   "id": "f3985881",
   "metadata": {},
   "outputs": [],
   "source": [
    "first_row = df.iloc[0:1]"
   ]
  },
  {
   "cell_type": "code",
   "execution_count": 18,
   "id": "56a7e79a",
   "metadata": {},
   "outputs": [],
   "source": [
    "mat_code = first_row['Mat Code']"
   ]
  },
  {
   "cell_type": "code",
   "execution_count": 19,
   "id": "2e24f725",
   "metadata": {},
   "outputs": [
    {
     "data": {
      "text/html": [
       "<style>#sk-container-id-1 {color: black;}#sk-container-id-1 pre{padding: 0;}#sk-container-id-1 div.sk-toggleable {background-color: white;}#sk-container-id-1 label.sk-toggleable__label {cursor: pointer;display: block;width: 100%;margin-bottom: 0;padding: 0.3em;box-sizing: border-box;text-align: center;}#sk-container-id-1 label.sk-toggleable__label-arrow:before {content: \"▸\";float: left;margin-right: 0.25em;color: #696969;}#sk-container-id-1 label.sk-toggleable__label-arrow:hover:before {color: black;}#sk-container-id-1 div.sk-estimator:hover label.sk-toggleable__label-arrow:before {color: black;}#sk-container-id-1 div.sk-toggleable__content {max-height: 0;max-width: 0;overflow: hidden;text-align: left;background-color: #f0f8ff;}#sk-container-id-1 div.sk-toggleable__content pre {margin: 0.2em;color: black;border-radius: 0.25em;background-color: #f0f8ff;}#sk-container-id-1 input.sk-toggleable__control:checked~div.sk-toggleable__content {max-height: 200px;max-width: 100%;overflow: auto;}#sk-container-id-1 input.sk-toggleable__control:checked~label.sk-toggleable__label-arrow:before {content: \"▾\";}#sk-container-id-1 div.sk-estimator input.sk-toggleable__control:checked~label.sk-toggleable__label {background-color: #d4ebff;}#sk-container-id-1 div.sk-label input.sk-toggleable__control:checked~label.sk-toggleable__label {background-color: #d4ebff;}#sk-container-id-1 input.sk-hidden--visually {border: 0;clip: rect(1px 1px 1px 1px);clip: rect(1px, 1px, 1px, 1px);height: 1px;margin: -1px;overflow: hidden;padding: 0;position: absolute;width: 1px;}#sk-container-id-1 div.sk-estimator {font-family: monospace;background-color: #f0f8ff;border: 1px dotted black;border-radius: 0.25em;box-sizing: border-box;margin-bottom: 0.5em;}#sk-container-id-1 div.sk-estimator:hover {background-color: #d4ebff;}#sk-container-id-1 div.sk-parallel-item::after {content: \"\";width: 100%;border-bottom: 1px solid gray;flex-grow: 1;}#sk-container-id-1 div.sk-label:hover label.sk-toggleable__label {background-color: #d4ebff;}#sk-container-id-1 div.sk-serial::before {content: \"\";position: absolute;border-left: 1px solid gray;box-sizing: border-box;top: 0;bottom: 0;left: 50%;z-index: 0;}#sk-container-id-1 div.sk-serial {display: flex;flex-direction: column;align-items: center;background-color: white;padding-right: 0.2em;padding-left: 0.2em;position: relative;}#sk-container-id-1 div.sk-item {position: relative;z-index: 1;}#sk-container-id-1 div.sk-parallel {display: flex;align-items: stretch;justify-content: center;background-color: white;position: relative;}#sk-container-id-1 div.sk-item::before, #sk-container-id-1 div.sk-parallel-item::before {content: \"\";position: absolute;border-left: 1px solid gray;box-sizing: border-box;top: 0;bottom: 0;left: 50%;z-index: -1;}#sk-container-id-1 div.sk-parallel-item {display: flex;flex-direction: column;z-index: 1;position: relative;background-color: white;}#sk-container-id-1 div.sk-parallel-item:first-child::after {align-self: flex-end;width: 50%;}#sk-container-id-1 div.sk-parallel-item:last-child::after {align-self: flex-start;width: 50%;}#sk-container-id-1 div.sk-parallel-item:only-child::after {width: 0;}#sk-container-id-1 div.sk-dashed-wrapped {border: 1px dashed gray;margin: 0 0.4em 0.5em 0.4em;box-sizing: border-box;padding-bottom: 0.4em;background-color: white;}#sk-container-id-1 div.sk-label label {font-family: monospace;font-weight: bold;display: inline-block;line-height: 1.2em;}#sk-container-id-1 div.sk-label-container {text-align: center;}#sk-container-id-1 div.sk-container {/* jupyter's `normalize.less` sets `[hidden] { display: none; }` but bootstrap.min.css set `[hidden] { display: none !important; }` so we also need the `!important` here to be able to override the default hidden behavior on the sphinx rendered scikit-learn.org. See: https://github.com/scikit-learn/scikit-learn/issues/21755 */display: inline-block !important;position: relative;}#sk-container-id-1 div.sk-text-repr-fallback {display: none;}</style><div id=\"sk-container-id-1\" class=\"sk-top-container\"><div class=\"sk-text-repr-fallback\"><pre>LabelEncoder()</pre><b>In a Jupyter environment, please rerun this cell to show the HTML representation or trust the notebook. <br />On GitHub, the HTML representation is unable to render, please try loading this page with nbviewer.org.</b></div><div class=\"sk-container\" hidden><div class=\"sk-item\"><div class=\"sk-estimator sk-toggleable\"><input class=\"sk-toggleable__control sk-hidden--visually\" id=\"sk-estimator-id-1\" type=\"checkbox\" checked><label for=\"sk-estimator-id-1\" class=\"sk-toggleable__label sk-toggleable__label-arrow\">LabelEncoder</label><div class=\"sk-toggleable__content\"><pre>LabelEncoder()</pre></div></div></div></div></div>"
      ],
      "text/plain": [
       "LabelEncoder()"
      ]
     },
     "execution_count": 19,
     "metadata": {},
     "output_type": "execute_result"
    }
   ],
   "source": [
    "le = LabelEncoder()\n",
    "le.fit(mat_code)\n"
   ]
  },
  {
   "cell_type": "code",
   "execution_count": 20,
   "id": "d8606085",
   "metadata": {},
   "outputs": [],
   "source": [
    "first_row['Mat Code'] = le.transform(mat_code) "
   ]
  },
  {
   "cell_type": "code",
   "execution_count": 22,
   "id": "c87a12ad",
   "metadata": {},
   "outputs": [
    {
     "name": "stdout",
     "output_type": "stream",
     "text": [
      "   Mat Code Mat Code.1   471310010332500 471310010332500.1 471310010332500.2  \\\n",
      "0         0   Wagon No  SER55070161847    SER55070161847    SER55070161847     \n",
      "\n",
      "  471310010332500.3 471310010332500.4 471310010332500.5 471310010332500.6  \\\n",
      "0  NCR94131810560    NCR94131810560    NCR94131810560    NCR94131810560     \n",
      "\n",
      "  471310010332500.7  ... 151200025800300.188 151200025800300.189  \\\n",
      "0  NCR94131810560    ...    NCR94131363349      NCR94131363349     \n",
      "\n",
      "  151200025800300.190 151200025800300.191 151200025800300.192  \\\n",
      "0    NCR94131363349      NCR94131363349      NCR94131363349     \n",
      "\n",
      "  151200025800300.193 151200025800300.194 151200025800300.195  \\\n",
      "0    NCR94131363349      NCR94131363349      NCR94131363349     \n",
      "\n",
      "  151200025800300.196 151200025800300.197  \n",
      "0    NCR94131363349      NCR94131363349    \n",
      "\n",
      "[1 rows x 486 columns]\n"
     ]
    }
   ],
   "source": [
    "print(first_row)"
   ]
  },
  {
   "cell_type": "code",
   "execution_count": 24,
   "id": "791eff61",
   "metadata": {},
   "outputs": [
    {
     "name": "stdout",
     "output_type": "stream",
     "text": [
      "[1, 1, 3, 2, 3, 4, 1]\n"
     ]
    }
   ],
   "source": [
    "data = [\"apple\", \"apple\", \"banana\", \"fish\", \"banana\", \"star\", \"apple\"]\n",
    "\n",
    "unique_items = list(set(data))  # Get unique items\n",
    "item_to_number = {item: i + 1 for i, item in enumerate(unique_items)}\n",
    "\n",
    "assigned_numbers = [item_to_number[item] for item in data]\n",
    "\n",
    "print(assigned_numbers)\n"
   ]
  }
 ],
 "metadata": {
  "kernelspec": {
   "display_name": "Python 3 (ipykernel)",
   "language": "python",
   "name": "python3"
  },
  "language_info": {
   "codemirror_mode": {
    "name": "ipython",
    "version": 3
   },
   "file_extension": ".py",
   "mimetype": "text/x-python",
   "name": "python",
   "nbconvert_exporter": "python",
   "pygments_lexer": "ipython3",
   "version": "3.11.4"
  }
 },
 "nbformat": 4,
 "nbformat_minor": 5
}
