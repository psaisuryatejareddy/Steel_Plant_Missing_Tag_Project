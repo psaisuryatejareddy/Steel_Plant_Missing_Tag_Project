{
 "cells": [
  {
   "cell_type": "code",
   "execution_count": 12,
   "id": "7a7edbc1",
   "metadata": {},
   "outputs": [
    {
     "name": "stdout",
     "output_type": "stream",
     "text": [
      "Requirement already satisfied: nltk in c:\\users\\lokesh reddy\\appdata\\local\\programs\\python\\python311\\lib\\site-packages (3.8.1)"
     ]
    },
    {
     "name": "stderr",
     "output_type": "stream",
     "text": [
      "\n",
      "[notice] A new release of pip is available: 23.1.2 -> 23.2.1\n",
      "[notice] To update, run: C:\\Users\\Lokesh Reddy\\AppData\\Local\\Programs\\Python\\Python311\\python.exe -m pip install --upgrade pip\n"
     ]
    },
    {
     "name": "stdout",
     "output_type": "stream",
     "text": [
      "\n",
      "Requirement already satisfied: click in c:\\users\\lokesh reddy\\appdata\\local\\programs\\python\\python311\\lib\\site-packages (from nltk) (8.1.7)\n",
      "Requirement already satisfied: joblib in c:\\users\\lokesh reddy\\appdata\\local\\programs\\python\\python311\\lib\\site-packages (from nltk) (1.3.2)\n",
      "Requirement already satisfied: regex>=2021.8.3 in c:\\users\\lokesh reddy\\appdata\\local\\programs\\python\\python311\\lib\\site-packages (from nltk) (2023.8.8)\n",
      "Requirement already satisfied: tqdm in c:\\users\\lokesh reddy\\appdata\\local\\programs\\python\\python311\\lib\\site-packages (from nltk) (4.66.1)\n",
      "Requirement already satisfied: colorama in c:\\users\\lokesh reddy\\appdata\\local\\programs\\python\\python311\\lib\\site-packages (from click->nltk) (0.4.6)\n"
     ]
    }
   ],
   "source": [
    "!pip install nltk"
   ]
  },
  {
   "cell_type": "code",
   "execution_count": 14,
   "id": "f8636b0c",
   "metadata": {},
   "outputs": [],
   "source": [
    "import nltk"
   ]
  },
  {
   "cell_type": "code",
   "execution_count": 15,
   "id": "7f233ef7",
   "metadata": {},
   "outputs": [
    {
     "name": "stderr",
     "output_type": "stream",
     "text": [
      "[nltk_data] Downloading package stopwords to C:\\Users\\Lokesh\n",
      "[nltk_data]     Reddy\\AppData\\Roaming\\nltk_data...\n",
      "[nltk_data]   Unzipping corpora\\stopwords.zip.\n"
     ]
    },
    {
     "data": {
      "text/plain": [
       "True"
      ]
     },
     "execution_count": 15,
     "metadata": {},
     "output_type": "execute_result"
    }
   ],
   "source": [
    "nltk.download('stopwords')"
   ]
  },
  {
   "cell_type": "code",
   "execution_count": 10,
   "id": "4e240490",
   "metadata": {},
   "outputs": [],
   "source": [
    "import pandas as pd\n",
    "from sklearn.feature_extraction.text import CountVectorizer\n",
    "from sklearn.naive_bayes import MultinomialNB\n",
    "from sklearn.pipeline import Pipeline\n",
    "from sklearn.model_selection import train_test_split\n",
    "from nltk.corpus import stopwords\n"
   ]
  },
  {
   "cell_type": "code",
   "execution_count": 2,
   "id": "92777cfd",
   "metadata": {},
   "outputs": [],
   "source": [
    "# Load the CSV data\n",
    "data = pd.read_csv('sampletest1.csv')"
   ]
  },
  {
   "cell_type": "code",
   "execution_count": 3,
   "id": "c70f8de2",
   "metadata": {},
   "outputs": [
    {
     "data": {
      "text/html": [
       "<div>\n",
       "<style scoped>\n",
       "    .dataframe tbody tr th:only-of-type {\n",
       "        vertical-align: middle;\n",
       "    }\n",
       "\n",
       "    .dataframe tbody tr th {\n",
       "        vertical-align: top;\n",
       "    }\n",
       "\n",
       "    .dataframe thead th {\n",
       "        text-align: right;\n",
       "    }\n",
       "</style>\n",
       "<table border=\"1\" class=\"dataframe\">\n",
       "  <thead>\n",
       "    <tr style=\"text-align: right;\">\n",
       "      <th></th>\n",
       "      <th>SNO</th>\n",
       "      <th>Indent No</th>\n",
       "      <th>Mat Code</th>\n",
       "      <th>Heat No</th>\n",
       "      <th>Wagon No</th>\n",
       "      <th>Bundle No</th>\n",
       "    </tr>\n",
       "  </thead>\n",
       "  <tbody>\n",
       "    <tr>\n",
       "      <th>0</th>\n",
       "      <td>1</td>\n",
       "      <td>230672</td>\n",
       "      <td>4.710000e+14</td>\n",
       "      <td>23F01059</td>\n",
       "      <td>SER55070161847</td>\n",
       "      <td>47B0000443389</td>\n",
       "    </tr>\n",
       "    <tr>\n",
       "      <th>1</th>\n",
       "      <td>2</td>\n",
       "      <td>230672</td>\n",
       "      <td>4.710000e+14</td>\n",
       "      <td>23F01058</td>\n",
       "      <td>SER55070161847</td>\n",
       "      <td>47B0000443378</td>\n",
       "    </tr>\n",
       "    <tr>\n",
       "      <th>2</th>\n",
       "      <td>3</td>\n",
       "      <td>230672</td>\n",
       "      <td>4.710000e+14</td>\n",
       "      <td>23F01058</td>\n",
       "      <td>SER55070161847</td>\n",
       "      <td>47B0000443382</td>\n",
       "    </tr>\n",
       "    <tr>\n",
       "      <th>3</th>\n",
       "      <td>4</td>\n",
       "      <td>230672</td>\n",
       "      <td>4.710000e+14</td>\n",
       "      <td>23F01035</td>\n",
       "      <td>NCR94131810560</td>\n",
       "      <td>47B0000443847</td>\n",
       "    </tr>\n",
       "    <tr>\n",
       "      <th>4</th>\n",
       "      <td>5</td>\n",
       "      <td>230672</td>\n",
       "      <td>4.710000e+14</td>\n",
       "      <td>NaN</td>\n",
       "      <td>NCR94131810560</td>\n",
       "      <td>47B0000443849</td>\n",
       "    </tr>\n",
       "    <tr>\n",
       "      <th>...</th>\n",
       "      <td>...</td>\n",
       "      <td>...</td>\n",
       "      <td>...</td>\n",
       "      <td>...</td>\n",
       "      <td>...</td>\n",
       "      <td>...</td>\n",
       "    </tr>\n",
       "    <tr>\n",
       "      <th>479</th>\n",
       "      <td>480</td>\n",
       "      <td>230672</td>\n",
       "      <td>1.510000e+14</td>\n",
       "      <td>2303299</td>\n",
       "      <td>NCR94131363349</td>\n",
       "      <td>15M2000230075</td>\n",
       "    </tr>\n",
       "    <tr>\n",
       "      <th>480</th>\n",
       "      <td>481</td>\n",
       "      <td>230672</td>\n",
       "      <td>1.510000e+14</td>\n",
       "      <td>2303299</td>\n",
       "      <td>NCR94131363349</td>\n",
       "      <td>15M2000230081</td>\n",
       "    </tr>\n",
       "    <tr>\n",
       "      <th>481</th>\n",
       "      <td>482</td>\n",
       "      <td>230672</td>\n",
       "      <td>1.510000e+14</td>\n",
       "      <td>2303299</td>\n",
       "      <td>NCR94131363349</td>\n",
       "      <td>15M2000230074</td>\n",
       "    </tr>\n",
       "    <tr>\n",
       "      <th>482</th>\n",
       "      <td>483</td>\n",
       "      <td>230672</td>\n",
       "      <td>1.510000e+14</td>\n",
       "      <td>NaN</td>\n",
       "      <td>NCR94131363349</td>\n",
       "      <td>15M2000230080</td>\n",
       "    </tr>\n",
       "    <tr>\n",
       "      <th>483</th>\n",
       "      <td>484</td>\n",
       "      <td>230672</td>\n",
       "      <td>1.510000e+14</td>\n",
       "      <td>2303299</td>\n",
       "      <td>NCR94131363349</td>\n",
       "      <td>15M2000230077</td>\n",
       "    </tr>\n",
       "  </tbody>\n",
       "</table>\n",
       "<p>484 rows × 6 columns</p>\n",
       "</div>"
      ],
      "text/plain": [
       "     SNO  Indent No      Mat Code   Heat No          Wagon No      Bundle No\n",
       "0      1     230672  4.710000e+14  23F01059  SER55070161847    47B0000443389\n",
       "1      2     230672  4.710000e+14  23F01058  SER55070161847    47B0000443378\n",
       "2      3     230672  4.710000e+14  23F01058  SER55070161847    47B0000443382\n",
       "3      4     230672  4.710000e+14  23F01035  NCR94131810560    47B0000443847\n",
       "4      5     230672  4.710000e+14       NaN  NCR94131810560    47B0000443849\n",
       "..   ...        ...           ...       ...               ...            ...\n",
       "479  480     230672  1.510000e+14   2303299  NCR94131363349    15M2000230075\n",
       "480  481     230672  1.510000e+14   2303299  NCR94131363349    15M2000230081\n",
       "481  482     230672  1.510000e+14   2303299  NCR94131363349    15M2000230074\n",
       "482  483     230672  1.510000e+14       NaN  NCR94131363349    15M2000230080\n",
       "483  484     230672  1.510000e+14   2303299  NCR94131363349    15M2000230077\n",
       "\n",
       "[484 rows x 6 columns]"
      ]
     },
     "execution_count": 3,
     "metadata": {},
     "output_type": "execute_result"
    }
   ],
   "source": [
    "data"
   ]
  },
  {
   "cell_type": "code",
   "execution_count": 4,
   "id": "f58b7d39",
   "metadata": {},
   "outputs": [],
   "source": [
    "# Drop rows with missing heat numbers\n",
    "data = data.dropna(subset=['Heat No'])"
   ]
  },
  {
   "cell_type": "code",
   "execution_count": 5,
   "id": "d4425243",
   "metadata": {},
   "outputs": [
    {
     "data": {
      "text/html": [
       "<div>\n",
       "<style scoped>\n",
       "    .dataframe tbody tr th:only-of-type {\n",
       "        vertical-align: middle;\n",
       "    }\n",
       "\n",
       "    .dataframe tbody tr th {\n",
       "        vertical-align: top;\n",
       "    }\n",
       "\n",
       "    .dataframe thead th {\n",
       "        text-align: right;\n",
       "    }\n",
       "</style>\n",
       "<table border=\"1\" class=\"dataframe\">\n",
       "  <thead>\n",
       "    <tr style=\"text-align: right;\">\n",
       "      <th></th>\n",
       "      <th>SNO</th>\n",
       "      <th>Indent No</th>\n",
       "      <th>Mat Code</th>\n",
       "      <th>Heat No</th>\n",
       "      <th>Wagon No</th>\n",
       "      <th>Bundle No</th>\n",
       "    </tr>\n",
       "  </thead>\n",
       "  <tbody>\n",
       "    <tr>\n",
       "      <th>0</th>\n",
       "      <td>1</td>\n",
       "      <td>230672</td>\n",
       "      <td>4.710000e+14</td>\n",
       "      <td>23F01059</td>\n",
       "      <td>SER55070161847</td>\n",
       "      <td>47B0000443389</td>\n",
       "    </tr>\n",
       "    <tr>\n",
       "      <th>1</th>\n",
       "      <td>2</td>\n",
       "      <td>230672</td>\n",
       "      <td>4.710000e+14</td>\n",
       "      <td>23F01058</td>\n",
       "      <td>SER55070161847</td>\n",
       "      <td>47B0000443378</td>\n",
       "    </tr>\n",
       "    <tr>\n",
       "      <th>2</th>\n",
       "      <td>3</td>\n",
       "      <td>230672</td>\n",
       "      <td>4.710000e+14</td>\n",
       "      <td>23F01058</td>\n",
       "      <td>SER55070161847</td>\n",
       "      <td>47B0000443382</td>\n",
       "    </tr>\n",
       "    <tr>\n",
       "      <th>3</th>\n",
       "      <td>4</td>\n",
       "      <td>230672</td>\n",
       "      <td>4.710000e+14</td>\n",
       "      <td>23F01035</td>\n",
       "      <td>NCR94131810560</td>\n",
       "      <td>47B0000443847</td>\n",
       "    </tr>\n",
       "    <tr>\n",
       "      <th>5</th>\n",
       "      <td>6</td>\n",
       "      <td>230672</td>\n",
       "      <td>4.710000e+14</td>\n",
       "      <td>23F01035</td>\n",
       "      <td>NCR94131810560</td>\n",
       "      <td>47B0000443845</td>\n",
       "    </tr>\n",
       "    <tr>\n",
       "      <th>...</th>\n",
       "      <td>...</td>\n",
       "      <td>...</td>\n",
       "      <td>...</td>\n",
       "      <td>...</td>\n",
       "      <td>...</td>\n",
       "      <td>...</td>\n",
       "    </tr>\n",
       "    <tr>\n",
       "      <th>478</th>\n",
       "      <td>479</td>\n",
       "      <td>230672</td>\n",
       "      <td>1.510000e+14</td>\n",
       "      <td>2303299</td>\n",
       "      <td>NCR94131363349</td>\n",
       "      <td>15M2000230078</td>\n",
       "    </tr>\n",
       "    <tr>\n",
       "      <th>479</th>\n",
       "      <td>480</td>\n",
       "      <td>230672</td>\n",
       "      <td>1.510000e+14</td>\n",
       "      <td>2303299</td>\n",
       "      <td>NCR94131363349</td>\n",
       "      <td>15M2000230075</td>\n",
       "    </tr>\n",
       "    <tr>\n",
       "      <th>480</th>\n",
       "      <td>481</td>\n",
       "      <td>230672</td>\n",
       "      <td>1.510000e+14</td>\n",
       "      <td>2303299</td>\n",
       "      <td>NCR94131363349</td>\n",
       "      <td>15M2000230081</td>\n",
       "    </tr>\n",
       "    <tr>\n",
       "      <th>481</th>\n",
       "      <td>482</td>\n",
       "      <td>230672</td>\n",
       "      <td>1.510000e+14</td>\n",
       "      <td>2303299</td>\n",
       "      <td>NCR94131363349</td>\n",
       "      <td>15M2000230074</td>\n",
       "    </tr>\n",
       "    <tr>\n",
       "      <th>483</th>\n",
       "      <td>484</td>\n",
       "      <td>230672</td>\n",
       "      <td>1.510000e+14</td>\n",
       "      <td>2303299</td>\n",
       "      <td>NCR94131363349</td>\n",
       "      <td>15M2000230077</td>\n",
       "    </tr>\n",
       "  </tbody>\n",
       "</table>\n",
       "<p>462 rows × 6 columns</p>\n",
       "</div>"
      ],
      "text/plain": [
       "     SNO  Indent No      Mat Code   Heat No          Wagon No      Bundle No\n",
       "0      1     230672  4.710000e+14  23F01059  SER55070161847    47B0000443389\n",
       "1      2     230672  4.710000e+14  23F01058  SER55070161847    47B0000443378\n",
       "2      3     230672  4.710000e+14  23F01058  SER55070161847    47B0000443382\n",
       "3      4     230672  4.710000e+14  23F01035  NCR94131810560    47B0000443847\n",
       "5      6     230672  4.710000e+14  23F01035  NCR94131810560    47B0000443845\n",
       "..   ...        ...           ...       ...               ...            ...\n",
       "478  479     230672  1.510000e+14   2303299  NCR94131363349    15M2000230078\n",
       "479  480     230672  1.510000e+14   2303299  NCR94131363349    15M2000230075\n",
       "480  481     230672  1.510000e+14   2303299  NCR94131363349    15M2000230081\n",
       "481  482     230672  1.510000e+14   2303299  NCR94131363349    15M2000230074\n",
       "483  484     230672  1.510000e+14   2303299  NCR94131363349    15M2000230077\n",
       "\n",
       "[462 rows x 6 columns]"
      ]
     },
     "execution_count": 5,
     "metadata": {},
     "output_type": "execute_result"
    }
   ],
   "source": [
    "data"
   ]
  },
  {
   "cell_type": "code",
   "execution_count": 6,
   "id": "a1b325c2",
   "metadata": {},
   "outputs": [],
   "source": [
    "# Split the data into features (wagon numbers) and labels (heat numbers)\n",
    "X = data['Wagon No']\n",
    "y = data['Heat No']"
   ]
  },
  {
   "cell_type": "code",
   "execution_count": 7,
   "id": "52837776",
   "metadata": {},
   "outputs": [],
   "source": [
    "# Split the data into training and testing sets\n",
    "X_train, X_test, y_train, y_test = train_test_split(X, y, test_size=0.2, random_state=42)"
   ]
  },
  {
   "cell_type": "code",
   "execution_count": 16,
   "id": "e0e7b439",
   "metadata": {
    "scrolled": false
   },
   "outputs": [],
   "source": [
    "# Create a text processing pipeline\n",
    "pipeline = Pipeline([\n",
    "    ('vectorizer', CountVectorizer(stop_words=stopwords.words('english'))),\n",
    "    ('classifier', MultinomialNB())\n",
    "])"
   ]
  },
  {
   "cell_type": "code",
   "execution_count": 19,
   "id": "2a6efe46",
   "metadata": {},
   "outputs": [
    {
     "data": {
      "text/html": [
       "<style>#sk-container-id-1 {color: black;}#sk-container-id-1 pre{padding: 0;}#sk-container-id-1 div.sk-toggleable {background-color: white;}#sk-container-id-1 label.sk-toggleable__label {cursor: pointer;display: block;width: 100%;margin-bottom: 0;padding: 0.3em;box-sizing: border-box;text-align: center;}#sk-container-id-1 label.sk-toggleable__label-arrow:before {content: \"▸\";float: left;margin-right: 0.25em;color: #696969;}#sk-container-id-1 label.sk-toggleable__label-arrow:hover:before {color: black;}#sk-container-id-1 div.sk-estimator:hover label.sk-toggleable__label-arrow:before {color: black;}#sk-container-id-1 div.sk-toggleable__content {max-height: 0;max-width: 0;overflow: hidden;text-align: left;background-color: #f0f8ff;}#sk-container-id-1 div.sk-toggleable__content pre {margin: 0.2em;color: black;border-radius: 0.25em;background-color: #f0f8ff;}#sk-container-id-1 input.sk-toggleable__control:checked~div.sk-toggleable__content {max-height: 200px;max-width: 100%;overflow: auto;}#sk-container-id-1 input.sk-toggleable__control:checked~label.sk-toggleable__label-arrow:before {content: \"▾\";}#sk-container-id-1 div.sk-estimator input.sk-toggleable__control:checked~label.sk-toggleable__label {background-color: #d4ebff;}#sk-container-id-1 div.sk-label input.sk-toggleable__control:checked~label.sk-toggleable__label {background-color: #d4ebff;}#sk-container-id-1 input.sk-hidden--visually {border: 0;clip: rect(1px 1px 1px 1px);clip: rect(1px, 1px, 1px, 1px);height: 1px;margin: -1px;overflow: hidden;padding: 0;position: absolute;width: 1px;}#sk-container-id-1 div.sk-estimator {font-family: monospace;background-color: #f0f8ff;border: 1px dotted black;border-radius: 0.25em;box-sizing: border-box;margin-bottom: 0.5em;}#sk-container-id-1 div.sk-estimator:hover {background-color: #d4ebff;}#sk-container-id-1 div.sk-parallel-item::after {content: \"\";width: 100%;border-bottom: 1px solid gray;flex-grow: 1;}#sk-container-id-1 div.sk-label:hover label.sk-toggleable__label {background-color: #d4ebff;}#sk-container-id-1 div.sk-serial::before {content: \"\";position: absolute;border-left: 1px solid gray;box-sizing: border-box;top: 0;bottom: 0;left: 50%;z-index: 0;}#sk-container-id-1 div.sk-serial {display: flex;flex-direction: column;align-items: center;background-color: white;padding-right: 0.2em;padding-left: 0.2em;position: relative;}#sk-container-id-1 div.sk-item {position: relative;z-index: 1;}#sk-container-id-1 div.sk-parallel {display: flex;align-items: stretch;justify-content: center;background-color: white;position: relative;}#sk-container-id-1 div.sk-item::before, #sk-container-id-1 div.sk-parallel-item::before {content: \"\";position: absolute;border-left: 1px solid gray;box-sizing: border-box;top: 0;bottom: 0;left: 50%;z-index: -1;}#sk-container-id-1 div.sk-parallel-item {display: flex;flex-direction: column;z-index: 1;position: relative;background-color: white;}#sk-container-id-1 div.sk-parallel-item:first-child::after {align-self: flex-end;width: 50%;}#sk-container-id-1 div.sk-parallel-item:last-child::after {align-self: flex-start;width: 50%;}#sk-container-id-1 div.sk-parallel-item:only-child::after {width: 0;}#sk-container-id-1 div.sk-dashed-wrapped {border: 1px dashed gray;margin: 0 0.4em 0.5em 0.4em;box-sizing: border-box;padding-bottom: 0.4em;background-color: white;}#sk-container-id-1 div.sk-label label {font-family: monospace;font-weight: bold;display: inline-block;line-height: 1.2em;}#sk-container-id-1 div.sk-label-container {text-align: center;}#sk-container-id-1 div.sk-container {/* jupyter's `normalize.less` sets `[hidden] { display: none; }` but bootstrap.min.css set `[hidden] { display: none !important; }` so we also need the `!important` here to be able to override the default hidden behavior on the sphinx rendered scikit-learn.org. See: https://github.com/scikit-learn/scikit-learn/issues/21755 */display: inline-block !important;position: relative;}#sk-container-id-1 div.sk-text-repr-fallback {display: none;}</style><div id=\"sk-container-id-1\" class=\"sk-top-container\"><div class=\"sk-text-repr-fallback\"><pre>Pipeline(steps=[(&#x27;vectorizer&#x27;,\n",
       "                 CountVectorizer(stop_words=[&#x27;i&#x27;, &#x27;me&#x27;, &#x27;my&#x27;, &#x27;myself&#x27;, &#x27;we&#x27;,\n",
       "                                             &#x27;our&#x27;, &#x27;ours&#x27;, &#x27;ourselves&#x27;, &#x27;you&#x27;,\n",
       "                                             &quot;you&#x27;re&quot;, &quot;you&#x27;ve&quot;, &quot;you&#x27;ll&quot;,\n",
       "                                             &quot;you&#x27;d&quot;, &#x27;your&#x27;, &#x27;yours&#x27;,\n",
       "                                             &#x27;yourself&#x27;, &#x27;yourselves&#x27;, &#x27;he&#x27;,\n",
       "                                             &#x27;him&#x27;, &#x27;his&#x27;, &#x27;himself&#x27;, &#x27;she&#x27;,\n",
       "                                             &quot;she&#x27;s&quot;, &#x27;her&#x27;, &#x27;hers&#x27;, &#x27;herself&#x27;,\n",
       "                                             &#x27;it&#x27;, &quot;it&#x27;s&quot;, &#x27;its&#x27;, &#x27;itself&#x27;, ...])),\n",
       "                (&#x27;classifier&#x27;, MultinomialNB())])</pre><b>In a Jupyter environment, please rerun this cell to show the HTML representation or trust the notebook. <br />On GitHub, the HTML representation is unable to render, please try loading this page with nbviewer.org.</b></div><div class=\"sk-container\" hidden><div class=\"sk-item sk-dashed-wrapped\"><div class=\"sk-label-container\"><div class=\"sk-label sk-toggleable\"><input class=\"sk-toggleable__control sk-hidden--visually\" id=\"sk-estimator-id-1\" type=\"checkbox\" ><label for=\"sk-estimator-id-1\" class=\"sk-toggleable__label sk-toggleable__label-arrow\">Pipeline</label><div class=\"sk-toggleable__content\"><pre>Pipeline(steps=[(&#x27;vectorizer&#x27;,\n",
       "                 CountVectorizer(stop_words=[&#x27;i&#x27;, &#x27;me&#x27;, &#x27;my&#x27;, &#x27;myself&#x27;, &#x27;we&#x27;,\n",
       "                                             &#x27;our&#x27;, &#x27;ours&#x27;, &#x27;ourselves&#x27;, &#x27;you&#x27;,\n",
       "                                             &quot;you&#x27;re&quot;, &quot;you&#x27;ve&quot;, &quot;you&#x27;ll&quot;,\n",
       "                                             &quot;you&#x27;d&quot;, &#x27;your&#x27;, &#x27;yours&#x27;,\n",
       "                                             &#x27;yourself&#x27;, &#x27;yourselves&#x27;, &#x27;he&#x27;,\n",
       "                                             &#x27;him&#x27;, &#x27;his&#x27;, &#x27;himself&#x27;, &#x27;she&#x27;,\n",
       "                                             &quot;she&#x27;s&quot;, &#x27;her&#x27;, &#x27;hers&#x27;, &#x27;herself&#x27;,\n",
       "                                             &#x27;it&#x27;, &quot;it&#x27;s&quot;, &#x27;its&#x27;, &#x27;itself&#x27;, ...])),\n",
       "                (&#x27;classifier&#x27;, MultinomialNB())])</pre></div></div></div><div class=\"sk-serial\"><div class=\"sk-item\"><div class=\"sk-estimator sk-toggleable\"><input class=\"sk-toggleable__control sk-hidden--visually\" id=\"sk-estimator-id-2\" type=\"checkbox\" ><label for=\"sk-estimator-id-2\" class=\"sk-toggleable__label sk-toggleable__label-arrow\">CountVectorizer</label><div class=\"sk-toggleable__content\"><pre>CountVectorizer(stop_words=[&#x27;i&#x27;, &#x27;me&#x27;, &#x27;my&#x27;, &#x27;myself&#x27;, &#x27;we&#x27;, &#x27;our&#x27;, &#x27;ours&#x27;,\n",
       "                            &#x27;ourselves&#x27;, &#x27;you&#x27;, &quot;you&#x27;re&quot;, &quot;you&#x27;ve&quot;, &quot;you&#x27;ll&quot;,\n",
       "                            &quot;you&#x27;d&quot;, &#x27;your&#x27;, &#x27;yours&#x27;, &#x27;yourself&#x27;, &#x27;yourselves&#x27;,\n",
       "                            &#x27;he&#x27;, &#x27;him&#x27;, &#x27;his&#x27;, &#x27;himself&#x27;, &#x27;she&#x27;, &quot;she&#x27;s&quot;,\n",
       "                            &#x27;her&#x27;, &#x27;hers&#x27;, &#x27;herself&#x27;, &#x27;it&#x27;, &quot;it&#x27;s&quot;, &#x27;its&#x27;,\n",
       "                            &#x27;itself&#x27;, ...])</pre></div></div></div><div class=\"sk-item\"><div class=\"sk-estimator sk-toggleable\"><input class=\"sk-toggleable__control sk-hidden--visually\" id=\"sk-estimator-id-3\" type=\"checkbox\" ><label for=\"sk-estimator-id-3\" class=\"sk-toggleable__label sk-toggleable__label-arrow\">MultinomialNB</label><div class=\"sk-toggleable__content\"><pre>MultinomialNB()</pre></div></div></div></div></div></div></div>"
      ],
      "text/plain": [
       "Pipeline(steps=[('vectorizer',\n",
       "                 CountVectorizer(stop_words=['i', 'me', 'my', 'myself', 'we',\n",
       "                                             'our', 'ours', 'ourselves', 'you',\n",
       "                                             \"you're\", \"you've\", \"you'll\",\n",
       "                                             \"you'd\", 'your', 'yours',\n",
       "                                             'yourself', 'yourselves', 'he',\n",
       "                                             'him', 'his', 'himself', 'she',\n",
       "                                             \"she's\", 'her', 'hers', 'herself',\n",
       "                                             'it', \"it's\", 'its', 'itself', ...])),\n",
       "                ('classifier', MultinomialNB())])"
      ]
     },
     "execution_count": 19,
     "metadata": {},
     "output_type": "execute_result"
    }
   ],
   "source": [
    "# Fit the pipeline on training data\n",
    "pipeline.fit(X_train, y_train)"
   ]
  },
  {
   "cell_type": "code",
   "execution_count": 20,
   "id": "52b336ca",
   "metadata": {},
   "outputs": [],
   "source": [
    "# Predict heat numbers for test data\n",
    "predicted_heat_numbers = pipeline.predict(X_test)"
   ]
  },
  {
   "cell_type": "code",
   "execution_count": 22,
   "id": "e7661772",
   "metadata": {},
   "outputs": [],
   "source": [
    "# Print the predicted heat numbers\n",
    "for i, prediction in enumerate(predicted_heat_numbers):\n",
    "    if prediction == '':\n",
    "        print(f\"Wagon Number: {X_test.iloc[i]} - Predicted Heat Number: {predicted_heat_numbers[i]}\")"
   ]
  },
  {
   "cell_type": "code",
   "execution_count": 23,
   "id": "c16f0a23",
   "metadata": {},
   "outputs": [],
   "source": [
    "# Update the missing heat numbers in the DataFrame with the predicted values\n",
    "for i, prediction in enumerate(predicted_heat_numbers):\n",
    "    if prediction == '':\n",
    "        data.loc[X_test.index[i], 'Heat No'] = predicted_heat_numbers[i]\n"
   ]
  },
  {
   "cell_type": "code",
   "execution_count": 24,
   "id": "a5ef200e",
   "metadata": {},
   "outputs": [],
   "source": [
    "# Save the updated DataFrame to a new CSV file\n",
    "data.to_csv('updated_data.csv', index=False)\n"
   ]
  },
  {
   "cell_type": "code",
   "execution_count": 25,
   "id": "637b2ddf",
   "metadata": {},
   "outputs": [
    {
     "name": "stdout",
     "output_type": "stream",
     "text": [
      "     SNO  Indent No      Mat Code   Heat No          Wagon No      Bundle No\n",
      "0      1     230672  4.710000e+14  23F01059  SER55070161847    47B0000443389\n",
      "1      2     230672  4.710000e+14  23F01058  SER55070161847    47B0000443378\n",
      "2      3     230672  4.710000e+14  23F01058  SER55070161847    47B0000443382\n",
      "3      4     230672  4.710000e+14  23F01035  NCR94131810560    47B0000443847\n",
      "5      6     230672  4.710000e+14  23F01035  NCR94131810560    47B0000443845\n",
      "..   ...        ...           ...       ...               ...            ...\n",
      "478  479     230672  1.510000e+14   2303299  NCR94131363349    15M2000230078\n",
      "479  480     230672  1.510000e+14   2303299  NCR94131363349    15M2000230075\n",
      "480  481     230672  1.510000e+14   2303299  NCR94131363349    15M2000230081\n",
      "481  482     230672  1.510000e+14   2303299  NCR94131363349    15M2000230074\n",
      "483  484     230672  1.510000e+14   2303299  NCR94131363349    15M2000230077\n",
      "\n",
      "[462 rows x 6 columns]\n"
     ]
    }
   ],
   "source": [
    "# Update the missing heat numbers in the DataFrame with the predicted values\n",
    "for i, prediction in enumerate(predicted_heat_numbers):\n",
    "    if prediction == '':\n",
    "        data.loc[X_test.index[i], 'Heat No'] = predicted_heat_numbers[i]\n",
    "\n",
    "# Print the updated DataFrame\n",
    "print(data)\n"
   ]
  },
  {
   "cell_type": "code",
   "execution_count": null,
   "id": "1647b6bd",
   "metadata": {},
   "outputs": [],
   "source": []
  }
 ],
 "metadata": {
  "kernelspec": {
   "display_name": "Python 3 (ipykernel)",
   "language": "python",
   "name": "python3"
  },
  "language_info": {
   "codemirror_mode": {
    "name": "ipython",
    "version": 3
   },
   "file_extension": ".py",
   "mimetype": "text/x-python",
   "name": "python",
   "nbconvert_exporter": "python",
   "pygments_lexer": "ipython3",
   "version": "3.11.4"
  }
 },
 "nbformat": 4,
 "nbformat_minor": 5
}
