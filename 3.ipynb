{
 "cells": [
  {
   "cell_type": "code",
   "execution_count": 10,
   "id": "cfd5f957",
   "metadata": {},
   "outputs": [],
   "source": [
    "import pandas as pd\n",
    "from sklearn.feature_extraction.text import CountVectorizer\n",
    "from sklearn.naive_bayes import MultinomialNB\n",
    "from sklearn.pipeline import Pipeline\n",
    "from sklearn.model_selection import train_test_split\n",
    "from sklearn.metrics import accuracy_score\n",
    "from nltk.corpus import stopwords\n",
    "from sklearn.metrics import jaccard_score"
   ]
  },
  {
   "cell_type": "code",
   "execution_count": 2,
   "id": "68b99c5c",
   "metadata": {},
   "outputs": [],
   "source": [
    "# Load the CSV data\n",
    "data = pd.read_csv('sampletest1.csv')"
   ]
  },
  {
   "cell_type": "code",
   "execution_count": 3,
   "id": "acf3471b",
   "metadata": {},
   "outputs": [],
   "source": [
    "# Separate data into rows with non-null heat numbers and rows with missing heat numbers\n",
    "data_with_heat = data.dropna(subset=['Heat No'])\n",
    "data_missing_heat = data[data['Heat No'].isnull()]"
   ]
  },
  {
   "cell_type": "code",
   "execution_count": 4,
   "id": "92006e35",
   "metadata": {},
   "outputs": [],
   "source": [
    "# Split the data with non-null heat numbers into features (wagon numbers) and labels (heat numbers)\n",
    "X_train = data_with_heat['Wagon No']\n",
    "y_train = data_with_heat['Heat No']"
   ]
  },
  {
   "cell_type": "code",
   "execution_count": 5,
   "id": "3d75c437",
   "metadata": {},
   "outputs": [],
   "source": [
    "# Create a text processing pipeline\n",
    "pipeline = Pipeline([\n",
    "    ('vectorizer', CountVectorizer(stop_words=stopwords.words('english'))),\n",
    "    ('classifier', MultinomialNB())\n",
    "])"
   ]
  },
  {
   "cell_type": "code",
   "execution_count": 6,
   "id": "6c57fb7f",
   "metadata": {},
   "outputs": [
    {
     "data": {
      "text/html": [
       "<style>#sk-container-id-1 {color: black;}#sk-container-id-1 pre{padding: 0;}#sk-container-id-1 div.sk-toggleable {background-color: white;}#sk-container-id-1 label.sk-toggleable__label {cursor: pointer;display: block;width: 100%;margin-bottom: 0;padding: 0.3em;box-sizing: border-box;text-align: center;}#sk-container-id-1 label.sk-toggleable__label-arrow:before {content: \"▸\";float: left;margin-right: 0.25em;color: #696969;}#sk-container-id-1 label.sk-toggleable__label-arrow:hover:before {color: black;}#sk-container-id-1 div.sk-estimator:hover label.sk-toggleable__label-arrow:before {color: black;}#sk-container-id-1 div.sk-toggleable__content {max-height: 0;max-width: 0;overflow: hidden;text-align: left;background-color: #f0f8ff;}#sk-container-id-1 div.sk-toggleable__content pre {margin: 0.2em;color: black;border-radius: 0.25em;background-color: #f0f8ff;}#sk-container-id-1 input.sk-toggleable__control:checked~div.sk-toggleable__content {max-height: 200px;max-width: 100%;overflow: auto;}#sk-container-id-1 input.sk-toggleable__control:checked~label.sk-toggleable__label-arrow:before {content: \"▾\";}#sk-container-id-1 div.sk-estimator input.sk-toggleable__control:checked~label.sk-toggleable__label {background-color: #d4ebff;}#sk-container-id-1 div.sk-label input.sk-toggleable__control:checked~label.sk-toggleable__label {background-color: #d4ebff;}#sk-container-id-1 input.sk-hidden--visually {border: 0;clip: rect(1px 1px 1px 1px);clip: rect(1px, 1px, 1px, 1px);height: 1px;margin: -1px;overflow: hidden;padding: 0;position: absolute;width: 1px;}#sk-container-id-1 div.sk-estimator {font-family: monospace;background-color: #f0f8ff;border: 1px dotted black;border-radius: 0.25em;box-sizing: border-box;margin-bottom: 0.5em;}#sk-container-id-1 div.sk-estimator:hover {background-color: #d4ebff;}#sk-container-id-1 div.sk-parallel-item::after {content: \"\";width: 100%;border-bottom: 1px solid gray;flex-grow: 1;}#sk-container-id-1 div.sk-label:hover label.sk-toggleable__label {background-color: #d4ebff;}#sk-container-id-1 div.sk-serial::before {content: \"\";position: absolute;border-left: 1px solid gray;box-sizing: border-box;top: 0;bottom: 0;left: 50%;z-index: 0;}#sk-container-id-1 div.sk-serial {display: flex;flex-direction: column;align-items: center;background-color: white;padding-right: 0.2em;padding-left: 0.2em;position: relative;}#sk-container-id-1 div.sk-item {position: relative;z-index: 1;}#sk-container-id-1 div.sk-parallel {display: flex;align-items: stretch;justify-content: center;background-color: white;position: relative;}#sk-container-id-1 div.sk-item::before, #sk-container-id-1 div.sk-parallel-item::before {content: \"\";position: absolute;border-left: 1px solid gray;box-sizing: border-box;top: 0;bottom: 0;left: 50%;z-index: -1;}#sk-container-id-1 div.sk-parallel-item {display: flex;flex-direction: column;z-index: 1;position: relative;background-color: white;}#sk-container-id-1 div.sk-parallel-item:first-child::after {align-self: flex-end;width: 50%;}#sk-container-id-1 div.sk-parallel-item:last-child::after {align-self: flex-start;width: 50%;}#sk-container-id-1 div.sk-parallel-item:only-child::after {width: 0;}#sk-container-id-1 div.sk-dashed-wrapped {border: 1px dashed gray;margin: 0 0.4em 0.5em 0.4em;box-sizing: border-box;padding-bottom: 0.4em;background-color: white;}#sk-container-id-1 div.sk-label label {font-family: monospace;font-weight: bold;display: inline-block;line-height: 1.2em;}#sk-container-id-1 div.sk-label-container {text-align: center;}#sk-container-id-1 div.sk-container {/* jupyter's `normalize.less` sets `[hidden] { display: none; }` but bootstrap.min.css set `[hidden] { display: none !important; }` so we also need the `!important` here to be able to override the default hidden behavior on the sphinx rendered scikit-learn.org. See: https://github.com/scikit-learn/scikit-learn/issues/21755 */display: inline-block !important;position: relative;}#sk-container-id-1 div.sk-text-repr-fallback {display: none;}</style><div id=\"sk-container-id-1\" class=\"sk-top-container\"><div class=\"sk-text-repr-fallback\"><pre>Pipeline(steps=[(&#x27;vectorizer&#x27;,\n",
       "                 CountVectorizer(stop_words=[&#x27;i&#x27;, &#x27;me&#x27;, &#x27;my&#x27;, &#x27;myself&#x27;, &#x27;we&#x27;,\n",
       "                                             &#x27;our&#x27;, &#x27;ours&#x27;, &#x27;ourselves&#x27;, &#x27;you&#x27;,\n",
       "                                             &quot;you&#x27;re&quot;, &quot;you&#x27;ve&quot;, &quot;you&#x27;ll&quot;,\n",
       "                                             &quot;you&#x27;d&quot;, &#x27;your&#x27;, &#x27;yours&#x27;,\n",
       "                                             &#x27;yourself&#x27;, &#x27;yourselves&#x27;, &#x27;he&#x27;,\n",
       "                                             &#x27;him&#x27;, &#x27;his&#x27;, &#x27;himself&#x27;, &#x27;she&#x27;,\n",
       "                                             &quot;she&#x27;s&quot;, &#x27;her&#x27;, &#x27;hers&#x27;, &#x27;herself&#x27;,\n",
       "                                             &#x27;it&#x27;, &quot;it&#x27;s&quot;, &#x27;its&#x27;, &#x27;itself&#x27;, ...])),\n",
       "                (&#x27;classifier&#x27;, MultinomialNB())])</pre><b>In a Jupyter environment, please rerun this cell to show the HTML representation or trust the notebook. <br />On GitHub, the HTML representation is unable to render, please try loading this page with nbviewer.org.</b></div><div class=\"sk-container\" hidden><div class=\"sk-item sk-dashed-wrapped\"><div class=\"sk-label-container\"><div class=\"sk-label sk-toggleable\"><input class=\"sk-toggleable__control sk-hidden--visually\" id=\"sk-estimator-id-1\" type=\"checkbox\" ><label for=\"sk-estimator-id-1\" class=\"sk-toggleable__label sk-toggleable__label-arrow\">Pipeline</label><div class=\"sk-toggleable__content\"><pre>Pipeline(steps=[(&#x27;vectorizer&#x27;,\n",
       "                 CountVectorizer(stop_words=[&#x27;i&#x27;, &#x27;me&#x27;, &#x27;my&#x27;, &#x27;myself&#x27;, &#x27;we&#x27;,\n",
       "                                             &#x27;our&#x27;, &#x27;ours&#x27;, &#x27;ourselves&#x27;, &#x27;you&#x27;,\n",
       "                                             &quot;you&#x27;re&quot;, &quot;you&#x27;ve&quot;, &quot;you&#x27;ll&quot;,\n",
       "                                             &quot;you&#x27;d&quot;, &#x27;your&#x27;, &#x27;yours&#x27;,\n",
       "                                             &#x27;yourself&#x27;, &#x27;yourselves&#x27;, &#x27;he&#x27;,\n",
       "                                             &#x27;him&#x27;, &#x27;his&#x27;, &#x27;himself&#x27;, &#x27;she&#x27;,\n",
       "                                             &quot;she&#x27;s&quot;, &#x27;her&#x27;, &#x27;hers&#x27;, &#x27;herself&#x27;,\n",
       "                                             &#x27;it&#x27;, &quot;it&#x27;s&quot;, &#x27;its&#x27;, &#x27;itself&#x27;, ...])),\n",
       "                (&#x27;classifier&#x27;, MultinomialNB())])</pre></div></div></div><div class=\"sk-serial\"><div class=\"sk-item\"><div class=\"sk-estimator sk-toggleable\"><input class=\"sk-toggleable__control sk-hidden--visually\" id=\"sk-estimator-id-2\" type=\"checkbox\" ><label for=\"sk-estimator-id-2\" class=\"sk-toggleable__label sk-toggleable__label-arrow\">CountVectorizer</label><div class=\"sk-toggleable__content\"><pre>CountVectorizer(stop_words=[&#x27;i&#x27;, &#x27;me&#x27;, &#x27;my&#x27;, &#x27;myself&#x27;, &#x27;we&#x27;, &#x27;our&#x27;, &#x27;ours&#x27;,\n",
       "                            &#x27;ourselves&#x27;, &#x27;you&#x27;, &quot;you&#x27;re&quot;, &quot;you&#x27;ve&quot;, &quot;you&#x27;ll&quot;,\n",
       "                            &quot;you&#x27;d&quot;, &#x27;your&#x27;, &#x27;yours&#x27;, &#x27;yourself&#x27;, &#x27;yourselves&#x27;,\n",
       "                            &#x27;he&#x27;, &#x27;him&#x27;, &#x27;his&#x27;, &#x27;himself&#x27;, &#x27;she&#x27;, &quot;she&#x27;s&quot;,\n",
       "                            &#x27;her&#x27;, &#x27;hers&#x27;, &#x27;herself&#x27;, &#x27;it&#x27;, &quot;it&#x27;s&quot;, &#x27;its&#x27;,\n",
       "                            &#x27;itself&#x27;, ...])</pre></div></div></div><div class=\"sk-item\"><div class=\"sk-estimator sk-toggleable\"><input class=\"sk-toggleable__control sk-hidden--visually\" id=\"sk-estimator-id-3\" type=\"checkbox\" ><label for=\"sk-estimator-id-3\" class=\"sk-toggleable__label sk-toggleable__label-arrow\">MultinomialNB</label><div class=\"sk-toggleable__content\"><pre>MultinomialNB()</pre></div></div></div></div></div></div></div>"
      ],
      "text/plain": [
       "Pipeline(steps=[('vectorizer',\n",
       "                 CountVectorizer(stop_words=['i', 'me', 'my', 'myself', 'we',\n",
       "                                             'our', 'ours', 'ourselves', 'you',\n",
       "                                             \"you're\", \"you've\", \"you'll\",\n",
       "                                             \"you'd\", 'your', 'yours',\n",
       "                                             'yourself', 'yourselves', 'he',\n",
       "                                             'him', 'his', 'himself', 'she',\n",
       "                                             \"she's\", 'her', 'hers', 'herself',\n",
       "                                             'it', \"it's\", 'its', 'itself', ...])),\n",
       "                ('classifier', MultinomialNB())])"
      ]
     },
     "execution_count": 6,
     "metadata": {},
     "output_type": "execute_result"
    }
   ],
   "source": [
    "# Train the model\n",
    "pipeline.fit(X_train, y_train)"
   ]
  },
  {
   "cell_type": "code",
   "execution_count": 7,
   "id": "80431908",
   "metadata": {},
   "outputs": [],
   "source": [
    "# Predict heat numbers for rows with missing heat numbers\n",
    "predicted_heat_numbers = pipeline.predict(data_missing_heat['Wagon No'])"
   ]
  },
  {
   "cell_type": "code",
   "execution_count": 8,
   "id": "08627f53",
   "metadata": {},
   "outputs": [
    {
     "name": "stdout",
     "output_type": "stream",
     "text": [
      "SNO: 5 - Wagon Number: NCR94131810560   - Predicted Heat Number: 23F01059\n",
      "SNO: 13 - Wagon Number: NCR94131810560   - Predicted Heat Number: 23F01059\n",
      "SNO: 20 - Wagon Number: ECOR56120642279  - Predicted Heat Number: 23E00914\n",
      "SNO: 32 - Wagon Number: SCR57091810261   - Predicted Heat Number: 2303183\n",
      "SNO: 37 - Wagon Number: SER94072310525   - Predicted Heat Number: 2303295\n",
      "SNO: 53 - Wagon Number: ECOR94122111607  - Predicted Heat Number: 23E00910\n",
      "SNO: 109 - Wagon Number: SER55079960861   - Predicted Heat Number: 2303292\n",
      "SNO: 185 - Wagon Number: SER94071359136   - Predicted Heat Number: 23E00996\n",
      "SNO: 262 - Wagon Number: SER94071359136   - Predicted Heat Number: 23E00996\n",
      "SNO: 280 - Wagon Number: SER94072310327   - Predicted Heat Number: 2303183\n",
      "SNO: 308 - Wagon Number: SER94072310495   - Predicted Heat Number: 23F01023\n",
      "SNO: 362 - Wagon Number: ER94021329387    - Predicted Heat Number: 23F01075\n",
      "SNO: 367 - Wagon Number: ER94021329387    - Predicted Heat Number: 23F01075\n",
      "SNO: 377 - Wagon Number: ER94022110809    - Predicted Heat Number: 23E00996\n",
      "SNO: 388 - Wagon Number: SER55070063691   - Predicted Heat Number: 23E00994\n",
      "SNO: 397 - Wagon Number: NR94031711264    - Predicted Heat Number: 2303249\n",
      "SNO: 405 - Wagon Number: ER94022110878    - Predicted Heat Number: 23E00996\n",
      "SNO: 418 - Wagon Number: SCR94092110532   - Predicted Heat Number: 23E00915\n",
      "SNO: 429 - Wagon Number: SER94071256336   - Predicted Heat Number: 2303283\n",
      "SNO: 438 - Wagon Number: SECR55140313732  - Predicted Heat Number: 23D00903\n",
      "SNO: 477 - Wagon Number: NCR94131363349   - Predicted Heat Number: 2303299\n",
      "SNO: 483 - Wagon Number: NCR94131363349   - Predicted Heat Number: 2303299\n"
     ]
    }
   ],
   "source": [
    "# Print the predicted values along with their original SNO, wagon numbers, and predicted heat numbers\n",
    "for sno, wagon_number, predicted_heat in zip(data_missing_heat['SNO'], data_missing_heat['Wagon No'], predicted_heat_numbers):\n",
    "    print(f\"SNO: {sno} - Wagon Number: {wagon_number} - Predicted Heat Number: {predicted_heat}\")"
   ]
  },
  {
   "cell_type": "code",
   "execution_count": 12,
   "id": "0e64cfa3",
   "metadata": {},
   "outputs": [
    {
     "ename": "AttributeError",
     "evalue": "'float' object has no attribute 'split'",
     "output_type": "error",
     "traceback": [
      "\u001b[1;31m---------------------------------------------------------------------------\u001b[0m",
      "\u001b[1;31mAttributeError\u001b[0m                            Traceback (most recent call last)",
      "Cell \u001b[1;32mIn[12], line 4\u001b[0m\n\u001b[0;32m      2\u001b[0m jaccard_scores \u001b[38;5;241m=\u001b[39m []\n\u001b[0;32m      3\u001b[0m \u001b[38;5;28;01mfor\u001b[39;00m actual_heat, predicted_heat \u001b[38;5;129;01min\u001b[39;00m \u001b[38;5;28mzip\u001b[39m(actual_heat_numbers, predicted_heat_numbers):\n\u001b[1;32m----> 4\u001b[0m     actual_heat_set \u001b[38;5;241m=\u001b[39m \u001b[38;5;28mset\u001b[39m(actual_heat\u001b[38;5;241m.\u001b[39msplit(\u001b[38;5;124m'\u001b[39m\u001b[38;5;124m,\u001b[39m\u001b[38;5;124m'\u001b[39m))\n\u001b[0;32m      5\u001b[0m     predicted_heat_set \u001b[38;5;241m=\u001b[39m \u001b[38;5;28mset\u001b[39m(predicted_heat\u001b[38;5;241m.\u001b[39msplit(\u001b[38;5;124m'\u001b[39m\u001b[38;5;124m,\u001b[39m\u001b[38;5;124m'\u001b[39m))\n\u001b[0;32m      6\u001b[0m     jaccard_scores\u001b[38;5;241m.\u001b[39mappend(jaccard_score(actual_heat_set, predicted_heat_set, average\u001b[38;5;241m=\u001b[39m\u001b[38;5;124m'\u001b[39m\u001b[38;5;124mmacro\u001b[39m\u001b[38;5;124m'\u001b[39m))\n",
      "\u001b[1;31mAttributeError\u001b[0m: 'float' object has no attribute 'split'"
     ]
    }
   ],
   "source": [
    "# Calculate the Jaccard similarity score for each pair of actual and predicted sets\n",
    "jaccard_scores = []\n",
    "for actual_heat, predicted_heat in zip(actual_heat_numbers, predicted_heat_numbers):\n",
    "    actual_heat_set = set(actual_heat.split(','))\n",
    "    predicted_heat_set = set(predicted_heat.split(','))\n",
    "    jaccard_scores.append(jaccard_score(actual_heat_set, predicted_heat_set, average='macro'))\n"
   ]
  },
  {
   "cell_type": "code",
   "execution_count": 11,
   "id": "661e65c8",
   "metadata": {},
   "outputs": [
    {
     "ename": "AttributeError",
     "evalue": "'float' object has no attribute 'split'",
     "output_type": "error",
     "traceback": [
      "\u001b[1;31m---------------------------------------------------------------------------\u001b[0m",
      "\u001b[1;31mAttributeError\u001b[0m                            Traceback (most recent call last)",
      "Cell \u001b[1;32mIn[11], line 4\u001b[0m\n\u001b[0;32m      2\u001b[0m jaccard_scores \u001b[38;5;241m=\u001b[39m []\n\u001b[0;32m      3\u001b[0m \u001b[38;5;28;01mfor\u001b[39;00m actual_heat, predicted_heat \u001b[38;5;129;01min\u001b[39;00m \u001b[38;5;28mzip\u001b[39m(actual_heat_numbers, predicted_heat_numbers):\n\u001b[1;32m----> 4\u001b[0m     actual_heat_set \u001b[38;5;241m=\u001b[39m \u001b[38;5;28mset\u001b[39m(actual_heat\u001b[38;5;241m.\u001b[39msplit(\u001b[38;5;124m'\u001b[39m\u001b[38;5;124m,\u001b[39m\u001b[38;5;124m'\u001b[39m))\n\u001b[0;32m      5\u001b[0m     predicted_heat_set \u001b[38;5;241m=\u001b[39m \u001b[38;5;28mset\u001b[39m(predicted_heat\u001b[38;5;241m.\u001b[39msplit(\u001b[38;5;124m'\u001b[39m\u001b[38;5;124m,\u001b[39m\u001b[38;5;124m'\u001b[39m))\n\u001b[0;32m      6\u001b[0m     jaccard_scores\u001b[38;5;241m.\u001b[39mappend(jaccard_score(actual_heat_set, predicted_heat_set, average\u001b[38;5;241m=\u001b[39m\u001b[38;5;124m'\u001b[39m\u001b[38;5;124mmacro\u001b[39m\u001b[38;5;124m'\u001b[39m))\n",
      "\u001b[1;31mAttributeError\u001b[0m: 'float' object has no attribute 'split'"
     ]
    }
   ],
   "source": [
    "# Calculate the Jaccard similarity score for each pair of actual and predicted sets\n",
    "jaccard_scores = []\n",
    "for actual_heat, predicted_heat in zip(actual_heat_numbers, predicted_heat_numbers):\n",
    "    actual_heat_set = set(actual_heat.split(','))\n",
    "    predicted_heat_set = set(predicted_heat.split(','))\n",
    "    jaccard_scores.append(jaccard_score(actual_heat_set, predicted_heat_set, average='macro'))\n"
   ]
  },
  {
   "cell_type": "code",
   "execution_count": null,
   "id": "44888b73",
   "metadata": {},
   "outputs": [],
   "source": []
  }
 ],
 "metadata": {
  "kernelspec": {
   "display_name": "Python 3 (ipykernel)",
   "language": "python",
   "name": "python3"
  },
  "language_info": {
   "codemirror_mode": {
    "name": "ipython",
    "version": 3
   },
   "file_extension": ".py",
   "mimetype": "text/x-python",
   "name": "python",
   "nbconvert_exporter": "python",
   "pygments_lexer": "ipython3",
   "version": "3.11.4"
  }
 },
 "nbformat": 4,
 "nbformat_minor": 5
}
