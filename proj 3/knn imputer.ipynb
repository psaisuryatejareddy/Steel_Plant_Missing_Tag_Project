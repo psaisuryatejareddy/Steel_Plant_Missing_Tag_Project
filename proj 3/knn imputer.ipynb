{
 "cells": [
  {
   "cell_type": "code",
   "execution_count": 23,
   "id": "cfc28a51",
   "metadata": {},
   "outputs": [],
   "source": [
    "import pandas as pd\n",
    "from sklearn.impute import KNNImputer\n",
    "from sklearn.preprocessing import LabelEncoder\n",
    "import numpy as np"
   ]
  },
  {
   "cell_type": "code",
   "execution_count": 24,
   "id": "20240a39",
   "metadata": {},
   "outputs": [],
   "source": [
    "# Load your CSV file (replace 'your_file.csv' with your actual file)\n",
    "file_path = 'mat,heatremoved.csv'\n",
    "data = pd.read_csv(file_path)"
   ]
  },
  {
   "cell_type": "code",
   "execution_count": 25,
   "id": "4dd48d32",
   "metadata": {},
   "outputs": [],
   "source": [
    "# Create label encoders for alphanumeric columns\n",
    "alphanumeric_columns = ['Mat Code', 'Heat No', 'Wagon No']"
   ]
  },
  {
   "cell_type": "code",
   "execution_count": 45,
   "id": "2e1ba6b2",
   "metadata": {},
   "outputs": [],
   "source": [
    "label_encoders = {}\n",
    "for column in alphanumeric_columns:\n",
    "    label_encoders[column] = LabelEncoder()\n",
    "    data[column] = label_encoders[column].fit_transform(data[column])"
   ]
  },
  {
   "cell_type": "code",
   "execution_count": 27,
   "id": "19f6e84d",
   "metadata": {},
   "outputs": [],
   "source": [
    "# Define the number of neighbors for KNN imputation\n",
    "n_neighbors = 5  # You can adjust this value based on your dataset"
   ]
  },
  {
   "cell_type": "code",
   "execution_count": 46,
   "id": "7e3d147b",
   "metadata": {},
   "outputs": [],
   "source": [
    "\n",
    "# Create a KNNImputer and fit it to your data\n",
    "knn_imputer = KNNImputer(n_neighbors=n_neighbors)\n",
    "imputed_data = knn_imputer.fit_transform(data)"
   ]
  },
  {
   "cell_type": "code",
   "execution_count": 47,
   "id": "e74c93d0",
   "metadata": {},
   "outputs": [],
   "source": [
    "# Convert the imputed data back to a DataFrame\n",
    "imputed_df = pd.DataFrame(imputed_data, columns=data.columns)\n"
   ]
  },
  {
   "cell_type": "code",
   "execution_count": 48,
   "id": "81c0be79",
   "metadata": {},
   "outputs": [],
   "source": [
    "# Inverse transform the encoded columns to get the original alphanumeric values\n",
    "for column in alphanumeric_columns:\n",
    "    imputed_df[column] = label_encoders[column].inverse_transform(imputed_df[column].astype(int))"
   ]
  },
  {
   "cell_type": "code",
   "execution_count": 53,
   "id": "d9581921",
   "metadata": {},
   "outputs": [],
   "source": [
    "# Define a function to iteratively impute NaN values one at a time based on neighbors\n",
    "def iterative_impute(df, knn_neighbors, max_iterations=10):\n",
    "    for _ in range(max_iterations):\n",
    "        nan_mask = df.isna()\n",
    "        if not nan_mask.any().any():\n",
    "            break\n",
    "        for column in df.columns:\n",
    "            nan_rows = nan_mask[column]\n",
    "            if nan_rows.any():\n",
    "                knn_imputer_iter = KNNImputer(n_neighbors=knn_neighbors)\n",
    "                imputed_values = knn_imputer_iter.fit_transform(df[nan_mask][column].values.reshape(-1, 1))\n",
    "                df.loc[nan_rows, column] = imputed_values\n",
    "    return df"
   ]
  },
  {
   "cell_type": "code",
   "execution_count": 54,
   "id": "20102db3",
   "metadata": {},
   "outputs": [],
   "source": [
    "\n",
    "# Fill remaining NaN values iteratively\n",
    "imputed_df = iterative_impute(imputed_df, n_neighbors)"
   ]
  },
  {
   "cell_type": "code",
   "execution_count": 55,
   "id": "80c4e233",
   "metadata": {},
   "outputs": [],
   "source": [
    "# Save the filled DataFrame to a new CSV file\n",
    "imputed_df.to_csv('imputed_data.csv', index=False)"
   ]
  },
  {
   "cell_type": "code",
   "execution_count": 56,
   "id": "8f363563",
   "metadata": {},
   "outputs": [
    {
     "name": "stdout",
     "output_type": "stream",
     "text": [
      "       SNO  Mat Code  Heat No  Wagon No\n",
      "0      1.0         3       60        26\n",
      "1      2.0         3       59        26\n",
      "2      3.0         3       59        26\n",
      "3      4.0         4       56        10\n",
      "4      5.0         3       65        10\n",
      "..     ...       ...      ...       ...\n",
      "479  480.0         4       27         9\n",
      "480  481.0         0       27         9\n",
      "481  482.0         0       65         9\n",
      "482  483.0         0       27         9\n",
      "483  484.0         0       27         9\n",
      "\n",
      "[484 rows x 4 columns]\n"
     ]
    }
   ],
   "source": [
    "# Display the filled data\n",
    "print(imputed_df)"
   ]
  }
 ],
 "metadata": {
  "kernelspec": {
   "display_name": "Python 3 (ipykernel)",
   "language": "python",
   "name": "python3"
  },
  "language_info": {
   "codemirror_mode": {
    "name": "ipython",
    "version": 3
   },
   "file_extension": ".py",
   "mimetype": "text/x-python",
   "name": "python",
   "nbconvert_exporter": "python",
   "pygments_lexer": "ipython3",
   "version": "3.11.4"
  }
 },
 "nbformat": 4,
 "nbformat_minor": 5
}
